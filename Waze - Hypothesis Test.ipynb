{
 "cells": [
  {
   "cell_type": "markdown",
   "id": "63bc3877-7741-40fe-be10-22d1210654d8",
   "metadata": {},
   "source": [
    "# **Data exploration and Hypothesis Testing**"
   ]
  },
  {
   "cell_type": "markdown",
   "id": "07278991-1559-4d96-b9a5-e9200d4b20d1",
   "metadata": {},
   "source": [
    "### Tasks\n",
    "\n",
    "* To analyze the relationship between mean amount of rides and device type.\n",
    "* The team would like a statistical analysis of ride data based on device type.\n",
    "* In particular, leadership wants to know if there is a statistically significant difference in mean amount of rides between iPhone® users and Android™ users.\n",
    "* Furthermore, conduct a two-sample hypothesis test (t-test) to analyze the difference in the mean amount of rides between iPhone users and Android users."
   ]
  },
  {
   "cell_type": "markdown",
   "id": "cf1d7c00-621a-4fbd-881f-9a96bdcda359",
   "metadata": {},
   "source": [
    "In this Notebook, we will explore the data provided and conduct a hypothesis test.\n",
    "<br/>\n",
    "\n",
    "**The purpose** of this project is to demostrate knowledge of how to conduct a two-sample hypothesis test.\n",
    "\n",
    "**The goal** is to apply descriptive statistics and hypothesis testing in Python.\n",
    "<br/>\n",
    "\n",
    "*This activity has three parts:*\n",
    "\n",
    "**Part 1:** Imports and data loading\n",
    "* What data packages will be necessary for hypothesis testing?\n",
    "\n",
    "**Part 2:** Conduct hypothesis testing\n",
    "* How did computing descriptive statistics help you analyze your data?\n",
    "\n",
    "* How did you formulate your null hypothesis and alternative hypothesis?\n",
    "\n",
    "**Part 3:** Communicate insights with stakeholders\n",
    "\n",
    "* What key business insight(s) emerged from your hypothesis test?\n",
    "\n",
    "* What business recommendations do you propose based on your results?\n",
    "\n",
    "<br/>\n",
    "\n",
    "\n",
    "Follow the instructions and answer the questions below to complete the activity. Then, we will complete an Executive Summary using the PACE Strategy Document."
   ]
  },
  {
   "cell_type": "markdown",
   "id": "56174b6a-6c42-4f26-b96b-e38bbf48d65b",
   "metadata": {},
   "source": [
    "### **Part 1. Imports and data loading**"
   ]
  },
  {
   "cell_type": "code",
   "execution_count": 8,
   "id": "1bb60d70-ef2d-49dd-9d21-1e88bc3b1d8c",
   "metadata": {},
   "outputs": [],
   "source": [
    "# Import packages for data manipulation\n",
    "import pandas as pd\n",
    "from scipy import stats"
   ]
  },
  {
   "cell_type": "code",
   "execution_count": 11,
   "id": "52260bb3-ebb3-4410-9000-f424b068c40a",
   "metadata": {},
   "outputs": [],
   "source": [
    "df = pd.read_csv('waze_dataset.csv')"
   ]
  },
  {
   "cell_type": "markdown",
   "id": "0801c89c-92f1-45be-902d-b530b0600c71",
   "metadata": {},
   "source": [
    "**Note:** In the dataset, `device` is a categorical variable with the labels `iPhone` and `Android`.\n",
    "\n",
    "In order to perform this analysis, you must turn each label into an integer.  The following code assigns a `1` for an `iPhone` user and a `2` for `Android`.  It assigns this label back to the variable `device_type`.\n",
    "\n",
    "**Steps:**\n",
    "1. Create a dictionary called `map_dictionary` that contains the class labels (`'Android'` and `'iPhone'`) for keys and the values you want to convert them to (`2` and `1`) as values.\n",
    "\n",
    "2. Create a new column called `device_type` that is a copy of the `device` column."
   ]
  },
  {
   "cell_type": "code",
   "execution_count": 21,
   "id": "ed9e5133-f0c6-4c6f-a17d-c370f95c6f80",
   "metadata": {},
   "outputs": [
    {
     "data": {
      "text/plain": [
       "0    2\n",
       "1    1\n",
       "2    2\n",
       "3    1\n",
       "4    2\n",
       "Name: device_type, dtype: int64"
      ]
     },
     "execution_count": 21,
     "metadata": {},
     "output_type": "execute_result"
    }
   ],
   "source": [
    "# 1. Create `map_dictionary`\n",
    "map_dictionary = {'Android': 2, 'iPhone': 1}\n",
    "\n",
    "# 2. Create new `device_type` column\n",
    "df['device_type'] = df['device']\n",
    "\n",
    "# 3. Map the new column to the dictionary\n",
    "df['device_type'] = df['device_type'].map(map_dictionary)\n",
    "\n",
    "df['device_type'].head()"
   ]
  },
  {
   "cell_type": "markdown",
   "id": "9c8f4e8e-431e-4873-b810-fa10d35b86f6",
   "metadata": {},
   "source": [
    "We are interested in the relationship between device type and the number of drives. One approach is to look at the average number of drives for each device type. Calculate these averages."
   ]
  },
  {
   "cell_type": "code",
   "execution_count": 24,
   "id": "e59a63eb-d5a5-4332-a443-92431586fef5",
   "metadata": {},
   "outputs": [
    {
     "data": {
      "text/plain": [
       "device_type\n",
       "1    67.859078\n",
       "2    66.231838\n",
       "Name: drives, dtype: float64"
      ]
     },
     "execution_count": 24,
     "metadata": {},
     "output_type": "execute_result"
    }
   ],
   "source": [
    "df.groupby('device_type')['drives'].mean()"
   ]
  },
  {
   "cell_type": "markdown",
   "id": "cc52b2f5-4eb9-42e1-b009-70d03ad9c3aa",
   "metadata": {},
   "source": [
    "Based on the averages shown, it appears that drivers who use an iPhone device to interact with the application have a higher number of drives on average. However, this difference might arise from random sampling, rather than being a true difference in the number of drives. To assess whether the difference is statistically significant, you can conduct a hypothesis test."
   ]
  },
  {
   "cell_type": "markdown",
   "id": "7a683f85-b41a-453e-964e-5af80cb6d88c",
   "metadata": {},
   "source": [
    "### **Part 2. Conduct hypothesis testing**"
   ]
  },
  {
   "cell_type": "markdown",
   "id": "def97102-f7b2-4e39-8f35-0b82a8a1d501",
   "metadata": {},
   "source": [
    "#### two-sample t-test \n",
    "\n",
    "1.   State the null hypothesis and the alternative hypothesis\n",
    "2.   Choose a signficance level\n",
    "3.   Find the p-value\n",
    "4.   Reject or fail to reject the null hypothesis\n",
    "\n",
    "**Note:** This is a t-test for two independent samples. This is the appropriate test since the two groups are independent (Android users vs. iPhone users)."
   ]
  },
  {
   "cell_type": "markdown",
   "id": "3e4d3d8e-f4b1-449d-ab97-61eeaeffc4d0",
   "metadata": {},
   "source": [
    "**Hypotheses:**\n",
    "\n",
    "* $H_0$: There is no difference in average number of drives between drivers who use iPhone devices and drivers who use Androids.\n",
    "* $H_A$: There is a difference in average number of drives between drivers who use iPhone devices and drivers who use Androids.\n",
    "* Signficance Level of 5%"
   ]
  },
  {
   "cell_type": "code",
   "execution_count": 38,
   "id": "e361cda1-9e9c-485d-aa8f-2517bfd82170",
   "metadata": {},
   "outputs": [
    {
     "data": {
      "text/plain": [
       "TtestResult(statistic=1.463523206885235, pvalue=0.143351972680206, df=11345.066049381952)"
      ]
     },
     "execution_count": 38,
     "metadata": {},
     "output_type": "execute_result"
    }
   ],
   "source": [
    "# 1. Isolate the `drives` column for iPhone users.\n",
    "iPhone = df[df['device_type'] == 1]['drives']\n",
    "\n",
    "# 2. Isolate the `drives` column for Android users.\n",
    "Android = df[df['device_type'] == 2]['drives']\n",
    "\n",
    "# 3. Perform the t-test\n",
    "stats.ttest_ind(a=iPhone, b=Android, equal_var=False)"
   ]
  },
  {
   "cell_type": "markdown",
   "id": "c6228f3d-41f1-4b5d-80af-894f32558980",
   "metadata": {},
   "source": [
    "**Conclusion:** \n",
    "\n",
    "> *Since the p-value is larger than the chosen significance level (5%), you fail to reject the null hypothesis. You conclude that there is **not** a statistically significant difference in the average number of drives between drivers who use iPhones and drivers who use Androids.*"
   ]
  },
  {
   "cell_type": "markdown",
   "id": "6efa374a-9aa0-49e0-983d-6e7e41a29c6b",
   "metadata": {},
   "source": [
    "### **Part 3. Communicate insights with stakeholders**"
   ]
  },
  {
   "cell_type": "markdown",
   "id": "17f85df4-5f2d-4f73-a50f-3d00a0b4a2ef",
   "metadata": {},
   "source": [
    "### Executive Summary:\n",
    "\n",
    "> *The key business insight is that drivers who use iPhone devices on average have a similar number of drives as those who use Androids.*\n",
    "\n",
    "> *One potential next step is to explore what other factors influence the variation in the number of drives, and run additonal hypothesis tests to learn more about user behavior. Further, temporary changes in marketing or user interface for the Waze app may provide more data to investigate churn.*"
   ]
  },
  {
   "cell_type": "code",
   "execution_count": null,
   "id": "e5ffc801-7a44-4132-86ca-89cd4d7c5f3f",
   "metadata": {},
   "outputs": [],
   "source": []
  },
  {
   "cell_type": "code",
   "execution_count": null,
   "id": "93cca50f-8f50-41b0-885d-b35b2ef87b0e",
   "metadata": {},
   "outputs": [],
   "source": []
  },
  {
   "cell_type": "code",
   "execution_count": null,
   "id": "6e41e880-6e88-458a-97dd-7f2bfe8abad6",
   "metadata": {},
   "outputs": [],
   "source": []
  },
  {
   "cell_type": "code",
   "execution_count": null,
   "id": "bbd38ccb-b691-41c8-9fe4-0ad386ad8c4f",
   "metadata": {},
   "outputs": [],
   "source": []
  },
  {
   "cell_type": "code",
   "execution_count": null,
   "id": "f286e649-5e18-4dff-b797-8f1694cf1ff5",
   "metadata": {},
   "outputs": [],
   "source": []
  },
  {
   "cell_type": "code",
   "execution_count": null,
   "id": "bff66522-fdba-47a5-8ab7-c386aceac1b8",
   "metadata": {},
   "outputs": [],
   "source": []
  },
  {
   "cell_type": "code",
   "execution_count": null,
   "id": "9d55e3cd-e1e0-40f3-b8e2-3e1ef2d64dc8",
   "metadata": {},
   "outputs": [],
   "source": []
  },
  {
   "cell_type": "code",
   "execution_count": null,
   "id": "0096c29b-e6e8-48ad-8de8-a458b95edd8f",
   "metadata": {},
   "outputs": [],
   "source": []
  }
 ],
 "metadata": {
  "kernelspec": {
   "display_name": "Python 3 (ipykernel)",
   "language": "python",
   "name": "python3"
  },
  "language_info": {
   "codemirror_mode": {
    "name": "ipython",
    "version": 3
   },
   "file_extension": ".py",
   "mimetype": "text/x-python",
   "name": "python",
   "nbconvert_exporter": "python",
   "pygments_lexer": "ipython3",
   "version": "3.12.4"
  }
 },
 "nbformat": 4,
 "nbformat_minor": 5
}
